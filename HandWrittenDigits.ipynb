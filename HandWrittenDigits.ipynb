{
  "nbformat": 4,
  "nbformat_minor": 0,
  "metadata": {
    "colab": {
      "provenance": [],
      "authorship_tag": "ABX9TyN3HSy2xe27xvIXdAGQbk8K",
      "include_colab_link": true
    },
    "kernelspec": {
      "name": "python3",
      "display_name": "Python 3"
    },
    "language_info": {
      "name": "python"
    }
  },
  "cells": [
    {
      "cell_type": "markdown",
      "metadata": {
        "id": "view-in-github",
        "colab_type": "text"
      },
      "source": [
        "<a href=\"https://colab.research.google.com/github/MariaDimopoulou/HandwrittenDigits/blob/main/HandWrittenDigits.ipynb\" target=\"_parent\"><img src=\"https://colab.research.google.com/assets/colab-badge.svg\" alt=\"Open In Colab\"/></a>"
      ]
    },
    {
      "cell_type": "markdown",
      "source": [],
      "metadata": {
        "id": "d7InolSNtFYJ"
      }
    },
    {
      "cell_type": "code",
      "execution_count": 2,
      "metadata": {
        "colab": {
          "base_uri": "https://localhost:8080/",
          "height": 569
        },
        "id": "aFw9DUa_qFZ1",
        "outputId": "1b140eda-7ff8-4b96-fc23-6e29322d3cb0"
      },
      "outputs": [
        {
          "output_type": "stream",
          "name": "stderr",
          "text": [
            "/usr/local/lib/python3.10/dist-packages/openpyxl/worksheet/_reader.py:329: UserWarning: Unknown extension is not supported and will be removed\n",
            "  warn(msg)\n",
            "/usr/local/lib/python3.10/dist-packages/openpyxl/worksheet/_reader.py:329: UserWarning: Unknown extension is not supported and will be removed\n",
            "  warn(msg)\n",
            "/usr/local/lib/python3.10/dist-packages/openpyxl/worksheet/_reader.py:329: UserWarning: Unknown extension is not supported and will be removed\n",
            "  warn(msg)\n",
            "/usr/local/lib/python3.10/dist-packages/openpyxl/worksheet/_reader.py:329: UserWarning: Unknown extension is not supported and will be removed\n",
            "  warn(msg)\n"
          ]
        },
        {
          "output_type": "display_data",
          "data": {
            "text/plain": [
              "<Figure size 640x480 with 1 Axes>"
            ],
            "image/png": "[encoded data removed]"
          },
          "metadata": {}
        }
      ],
      "source": [
        "import matplotlib.pyplot as plt\n",
        "import pandas as pd\n",
        "import numpy as np\n",
        "from scipy.linalg import svd, norm\n",
        "\n",
        "xtrain=pd.read_excel('data.xlsx',sheet_name='azip',header=None)\n",
        "ytrain=pd.read_excel('data.xlsx',sheet_name='dzip',header=None)\n",
        "xtest=pd.read_excel('data.xlsx',sheet_name='testzip',header=None)\n",
        "ytest=pd.read_excel('data.xlsx',sheet_name='dtest',header=None)\n",
        "\n",
        "def show_digit(num_of_column,data): # takes a column number and displays the corresponding digit using matplotlib\n",
        "    data_image=np.array(data.iloc[:,num_of_column])\n",
        "    image=np.reshape(data_image,(16,16))\n",
        "    plt.imshow(image)\n",
        "    plt.show()\n",
        "show_digit(0,xtest)"
      ]
    },
    {
      "cell_type": "code",
      "source": [
        "# Here, we create a dictionary named 'matrices' to store matrices for each digit.\n",
        "matrices = {}\n",
        "\n",
        "# Iterate through digits from 0 to 9\n",
        "for i in range(10):\n",
        "     matrices.update({\"A\"+str(i):xtrain.loc[:,list(ytrain.loc[0,:]==i)]})"
      ],
      "metadata": {
        "id": "p5KLZUQnrXdS"
      },
      "execution_count": 3,
      "outputs": []
    },
    {
      "cell_type": "code",
      "source": [
        "left_singular={}\n",
        "singular_matix={}\n",
        "right_singular={}\n",
        "for i in range(10):\n",
        "    u, s, v_t = svd(matrices['A'+str(i)], full_matrices=False) #svd for every matrix of each digit\n",
        "    left_singular.update({\"u\"+str(i):u})\n",
        "    singular_matix.update({\"s\"+str(i):s})\n",
        "    right_singular.update({\"v_t\"+str(i):v_t})\n"
      ],
      "metadata": {
        "id": "bI1LaVxkr-Su"
      },
      "execution_count": 5,
      "outputs": []
    },
    {
      "cell_type": "markdown",
      "source": [
        "The code iteratively applies a digit classification approach using singular value decomposition with varying numbers of basis vectors (kappas). It evaluates and prints the accuracy scores for each classification attempt on a test dataset, displaying the performance for different levels of feature representation."
      ],
      "metadata": {
        "id": "Np6HQVgGtRyA"
      }
    },
    {
      "cell_type": "code",
      "source": [
        "from sklearn.metrics import accuracy_score, confusion_matrix, classification_report\n",
        "I = np.eye(xtest.shape[0])\n",
        "kappas=np.arange(5,21)\n",
        "len_test=xtest.shape[1]\n",
        "predictions=np.empty((ytest.shape[1],0), dtype = int)\n",
        "for t in list(kappas):\n",
        "    prediction = []\n",
        "    for i in range(len_test):\n",
        "        residuals = []\n",
        "        for j in range(10):\n",
        "            u=left_singular[\"u\"+str(j)][:,0:t]\n",
        "            res=norm( np.dot(I-np.dot(u,u.T), xtest[i]  ))/norm(xtest[i]) # relative residual\n",
        "            residuals.append(res)\n",
        "        index_min = np.argmin(residuals)\n",
        "        prediction.append(index_min) #the smallest residual is the digit that we see\n",
        "\n",
        "    prediction=np.array(prediction)\n",
        "    predictions=np.hstack((predictions,prediction.reshape(-1,1)))\n",
        "scores=[]\n",
        "for i in range(len(kappas)):\n",
        "    score=accuracy_score(ytest.loc[0,:],predictions[:,i])\n",
        "    scores.append(score)\n",
        "data={\"Number of basis vectors\":list(kappas), \"accuracy_score\":scores}\n",
        "df=pd.DataFrame(data).set_index(\"Number of basis vectors\")\n",
        "print(df)\n"
      ],
      "metadata": {
        "colab": {
          "base_uri": "https://localhost:8080/"
        },
        "id": "T_yBWBUwsIpm",
        "outputId": "c13ca7b8-6f04-4677-cb05-75dae74d5d15"
      },
      "execution_count": 6,
      "outputs": [
        {
          "output_type": "stream",
          "name": "stdout",
          "text": [
            "                         accuracy_score\n",
            "Number of basis vectors                \n",
            "5                              0.902840\n",
            "6                              0.905331\n",
            "7                              0.916791\n",
            "8                              0.920279\n",
            "9                              0.926258\n",
            "10                             0.931739\n",
            "11                             0.932237\n",
            "12                             0.935725\n",
            "13                             0.936223\n",
            "14                             0.939213\n",
            "15                             0.941206\n",
            "16                             0.938714\n",
            "17                             0.939213\n",
            "18                             0.941704\n",
            "19                             0.940708\n",
            "20                             0.939711\n"
          ]
        }
      ]
    },
    {
      "cell_type": "code",
      "source": [
        "from sklearn.metrics import confusion_matrix\n",
        "confusion_matrix_df = pd.DataFrame( confusion_matrix(ytest.loc[0,:],predictions[:,13]) ) #We are using 18 vectors as it had the biggest accuracy in the previous section\n",
        "print(confusion_matrix_df)"
      ],
      "metadata": {
        "colab": {
          "base_uri": "https://localhost:8080/"
        },
        "id": "6vb7EeHQtTif",
        "outputId": "fa85f5ab-c05d-4ff4-b1f3-09258672b853"
      },
      "execution_count": 8,
      "outputs": [
        {
          "output_type": "stream",
          "name": "stdout",
          "text": [
            "     0    1    2    3    4    5    6    7    8    9\n",
            "0  355    0    2    0    1    0    0    0    0    1\n",
            "1    0  259    0    0    3    0    2    0    0    0\n",
            "2    8    1  178    2    5    0    0    1    3    0\n",
            "3    2    0    3  150    1    6    0    1    2    1\n",
            "4    2    1    0    0  185    2    0    3    0    7\n",
            "5    7    1    1    5    0  141    0    0    2    3\n",
            "6    2    1    0    0    2    1  163    0    1    0\n",
            "7    0    1    1    0    3    0    0  141    0    1\n",
            "8    2    0    1    6    0    1    0    0  153    3\n",
            "9    0    2    0    1    4    0    0    3    2  165\n"
          ]
        }
      ]
    },
    {
      "cell_type": "code",
      "source": [
        "import matplotlib.pyplot as plt\n",
        "#From confusion matrix we can see that some common missconseption are mixing up 2 with 0 and 4,  3 with 5, 4 with 9 etc\n",
        "#Below we can see some of the digits that were wrongly predicted. We can see that they are mostly bad written.\n",
        "misclassified =np.array(np.where(ytest.loc[0,:] != predictions[:,13]))\n",
        "pic1=plt.subplot(2,2,1)\n",
        "print(show_digit(misclassified[0][7],xtest))\n",
        "pic2=plt.subplot(2,2,2)\n",
        "print(show_digit(misclassified[0][1],xtest))\n",
        "pic3=plt.subplot(2,2,3)\n",
        "print(show_digit(misclassified[0][2],xtest))\n",
        "pic3=plt.subplot(2,2,4)\n",
        "print(show_digit(misclassified[0][8],xtest))\n"
      ],
      "metadata": {
        "colab": {
          "base_uri": "https://localhost:8080/",
          "height": 930
        },
        "id": "UeliDN05tniU",
        "outputId": "76fa94eb-65c6-437d-c7a6-62365e5e5a04"
      },
      "execution_count": 10,
      "outputs": [
        {
          "output_type": "display_data",
          "data": {
            "text/plain": [
              "<Figure size 640x480 with 1 Axes>"
            ],
            "image/png": "[encoded data removed]"
          },
          "metadata": {}
        },
        {
          "output_type": "stream",
          "name": "stdout",
          "text": [
            "None\n"
          ]
        },
        {
          "output_type": "display_data",
          "data": {
            "text/plain": [
              "<Figure size 640x480 with 1 Axes>"
            ],
            "image/png": "[encoded data removed]"
          },
          "metadata": {}
        },
        {
          "output_type": "stream",
          "name": "stdout",
          "text": [
            "None\n"
          ]
        },
        {
          "output_type": "display_data",
          "data": {
            "text/plain": [
              "<Figure size 640x480 with 1 Axes>"
            ],
            "image/png": "[encoded data removed]"
          },
          "metadata": {}
        },
        {
          "output_type": "stream",
          "name": "stdout",
          "text": [
            "None\n"
          ]
        },
        {
          "output_type": "display_data",
          "data": {
            "text/plain": [
              "<Figure size 640x480 with 1 Axes>"
            ],
            "image/png": "[encoded data removed]"
          },
          "metadata": {}
        },
        {
          "output_type": "stream",
          "name": "stdout",
          "text": [
            "None\n"
          ]
        }
      ]
    },
    {
      "cell_type": "markdown",
      "source": [
        "The function changes assesses the classification accuracy on the test dataset by selectively modifying the number of basis vectors used for one specific digit, while keeping the others constant."
      ],
      "metadata": {
        "id": "V4TQKVsKvAGH"
      }
    },
    {
      "cell_type": "code",
      "source": [
        "def changes(digit_dif,vectors_dif):\n",
        "    prediction=[]\n",
        "    for i in range (xtest.shape[1]):\n",
        "        residuals=[]\n",
        "        for j in range(10):\n",
        "            if j==digit_dif:\n",
        "                u=left_singular[\"u\"+str(j)][:,0:vectors_dif]\n",
        "                res=norm(np.dot(I-np.dot(u,u.T), xtest[i]))/norm(xtest[i]) #relative residual\n",
        "                residuals.append(res)\n",
        "            else:\n",
        "                u=left_singular[\"u\"+str(j)][:,0:18]\n",
        "                res=norm(np.dot(I-np.dot(u,u.T), xtest[i]))/norm(xtest[i])\n",
        "                residuals.append(res)\n",
        "        index_min = np.argmin(residuals)\n",
        "        prediction.append(index_min)\n",
        "    prediction=np.array(prediction)\n",
        "    score=accuracy_score(ytest.loc[0,:],prediction)\n",
        "    return score\n",
        "print(changes(1,18))\n",
        "print(changes(1,11))\n",
        "print(changes(0,13))\n",
        "print(changes(2,20))\n"
      ],
      "metadata": {
        "colab": {
          "base_uri": "https://localhost:8080/"
        },
        "id": "ZnoBEQFUuE9p",
        "outputId": "7faf3716-271f-40eb-cc89-f215d4a9057a"
      },
      "execution_count": 11,
      "outputs": [
        {
          "output_type": "stream",
          "name": "stdout",
          "text": [
            "0.9417040358744395\n",
            "0.9422022919780767\n",
            "0.9431988041853513\n",
            "0.9436970602889886\n"
          ]
        }
      ]
    }
  ]
}